{
 "cells": [
  {
   "cell_type": "markdown",
   "id": "e8bbdccb",
   "metadata": {},
   "source": [
    "Mrs. Inge wants to determine scholarship recipients based on their academic achievement index (GPA). Mrs. Inge asks for your help in selecting scholarship recipients:\n",
    "\n",
    "a. Write a Python program that allows Ms. Inge to enter student names and their GPAs for 10 students in the format \"Name | GPA\" (example: 'Adi Alkatiri | 3.8').\n",
    "\n",
    "b. Based on the data entered, the program must determine the scholarship recipient's eligibility status using the following criteria:\n",
    "\n",
    "If the GPA is above 3.5, then the status is \"Accepted by Full Scholarship\"\n",
    "If the GPA is between 3.0 to 3.5, then the status is \"Partially Accepted Scholarship\"\n",
    "If the GPA is below 3.0, then the status is \"Not Accepted Scholarship\"\n",
    "\n",
    "c. To obtain scholarship status, you are required to create a function\n",
    "receives parameters in the form of grades and returns the scholarship.\n"
   ]
  },
  {
   "cell_type": "markdown",
   "id": "abf1e9f0",
   "metadata": {},
   "source": [
    "#### Question a"
   ]
  },
  {
   "cell_type": "code",
   "execution_count": null,
   "id": "57c025fd",
   "metadata": {},
   "outputs": [],
   "source": [
    "# Initialize list to store student data\n",
    "data_mahasiswa = []\n",
    "\n",
    "# Perform iterations 3 times to enter student data\n",
    "for i in range(3):\n",
    "    nama = input(\"Masukkan nama mahasiswa:\")\n",
    "    ipk = float(input(\"Masukkan IPK mahasiswa:\"))\n",
    "    data_mahasiswa.append((nama, ipk))"
   ]
  },
  {
   "cell_type": "markdown",
   "id": "71385f73",
   "metadata": {},
   "source": [
    "#### Question b"
   ]
  },
  {
   "cell_type": "code",
   "execution_count": 2,
   "id": "dae889f6",
   "metadata": {},
   "outputs": [
    {
     "name": "stdout",
     "output_type": "stream",
     "text": [
      "Masukkan nama mahasiswa:Yuli\n",
      "Masukkan IPK mahasiswa:3.5\n",
      "Masukkan nama mahasiswa:Dila\n",
      "Masukkan IPK mahasiswa:4\n",
      "Masukkan nama mahasiswa:Itza\n",
      "Masukkan IPK mahasiswa:3\n",
      "\n",
      "Status Kelayakan Penerima Beasiswa:\n",
      "Nama: Yuli, Status: Diterima Beasiswa Sebagian\n",
      "Nama: Dila, Status: Diterima Beasiswa Penuh\n",
      "Nama: Itza, Status: Diterima Beasiswa Sebagian\n"
     ]
    }
   ],
   "source": [
    "# Initialize list to store student data\n",
    "data_mahasiswa = []\n",
    "\n",
    "# Perform iterations 3 times to enter student data\n",
    "for i in range(3):\n",
    "    nama = input(\"Masukkan nama mahasiswa:\")\n",
    "    ipk = float(input(\"Masukkan IPK mahasiswa:\"))\n",
    "    data_mahasiswa.append((nama, ipk))\n",
    "\n",
    "# Determine the eligibility status of scholarship recipients based on GPA\n",
    "status_beasiswa = []\n",
    "\n",
    "for nama, ipk in data_mahasiswa:\n",
    "    if ipk > 3.5:\n",
    "        status = \"Diterima Beasiswa Penuh\"\n",
    "    elif 3.0 <= ipk <= 3.5:\n",
    "        status = \"Diterima Beasiswa Sebagian\"\n",
    "    else:\n",
    "        status = \"Tidak Diterima Beasiswa\"\n",
    "    status_beasiswa.append((nama, status))\n",
    "\n",
    "# Print the student's name and scholarship recipient eligibility status\n",
    "print(\"\\nStatus Kelayakan Penerima Beasiswa:\")\n",
    "for nama, status in status_beasiswa:\n",
    "    print(f\"Nama: {nama}, Status: {status}\")\n"
   ]
  },
  {
   "cell_type": "markdown",
   "id": "c5302e57",
   "metadata": {},
   "source": [
    "#### Question c"
   ]
  },
  {
   "cell_type": "code",
   "execution_count": 1,
   "id": "e18c0ac8",
   "metadata": {},
   "outputs": [
    {
     "name": "stdout",
     "output_type": "stream",
     "text": [
      "Masukkan nilai: 80\n",
      "Predikat B\n"
     ]
    }
   ],
   "source": [
    "def tentukan_predikat(nilai):\n",
    "    if nilai >= 90:\n",
    "        return 'Predikat A'\n",
    "    elif nilai >= 80:\n",
    "        return 'Predikat B'\n",
    "    elif nilai >= 60:\n",
    "        return 'Predikat C'\n",
    "    elif nilai >= 40:\n",
    "        return 'Predikat D'\n",
    "    else:\n",
    "        return 'Predikat E'\n",
    "\n",
    "# Meminta input dari pengguna\n",
    "nilai = int(input('Masukkan nilai: '))\n",
    "\n",
    "# Memanggil fungsi dan mencetak hasilnya\n",
    "predikat = tentukan_predikat(nilai)\n",
    "print(predikat)"
   ]
  },
  {
   "cell_type": "code",
   "execution_count": null,
   "id": "2a2fbac7",
   "metadata": {},
   "outputs": [],
   "source": []
  }
 ],
 "metadata": {
  "kernelspec": {
   "display_name": "Python 3 (ipykernel)",
   "language": "python",
   "name": "python3"
  },
  "language_info": {
   "codemirror_mode": {
    "name": "ipython",
    "version": 3
   },
   "file_extension": ".py",
   "mimetype": "text/x-python",
   "name": "python",
   "nbconvert_exporter": "python",
   "pygments_lexer": "ipython3",
   "version": "3.11.4"
  }
 },
 "nbformat": 4,
 "nbformat_minor": 5
}
