{
 "cells": [
  {
   "cell_type": "markdown",
   "id": "d3493dbd",
   "metadata": {},
   "source": [
    "NumPy\n",
    "\n",
    "NumPy (Numerical Python) is a Python library that focuses on scientific computing. NumPy has the ability to create N-dimensional array objects, which are similar to lists in Python. The advantage of NumPy arrays compared to lists in Python is that they consume less memory and run time faster. NumPy also makes it easier for us in Linear Algebra, especially operations on Vectors (1-d arrays) and Matrix (2-d arrays)."
   ]
  },
  {
   "cell_type": "code",
   "execution_count": 20,
   "id": "0c2aeef4",
   "metadata": {},
   "outputs": [],
   "source": [
    "# Import NumPy\n",
    "\n",
    "import numpy as np"
   ]
  },
  {
   "cell_type": "code",
   "execution_count": 21,
   "id": "3aed8492",
   "metadata": {},
   "outputs": [
    {
     "name": "stdout",
     "output_type": "stream",
     "text": [
      "1.24.3\n"
     ]
    }
   ],
   "source": [
    "# Checking NumPy Version\n",
    "\n",
    "print(np.__version__)"
   ]
  },
  {
   "cell_type": "code",
   "execution_count": 24,
   "id": "b22dfb56",
   "metadata": {},
   "outputs": [
    {
     "name": "stdout",
     "output_type": "stream",
     "text": [
      "[1 2 3 4 5]\n"
     ]
    }
   ],
   "source": [
    "# creating a NumPy array\n",
    "\n",
    "arr = np.array([1,2,3,4,5])\n",
    "print(arr)"
   ]
  },
  {
   "cell_type": "code",
   "execution_count": 23,
   "id": "ce2f703b",
   "metadata": {},
   "outputs": [
    {
     "name": "stdout",
     "output_type": "stream",
     "text": [
      "[1 2 3 4 5]\n",
      "<class 'numpy.ndarray'>\n"
     ]
    }
   ],
   "source": [
    "import numpy as np\n",
    "\n",
    "arr = np.array([1,2,3,4,5])\n",
    "\n",
    "print(arr)\n",
    "\n",
    "print(type(arr))"
   ]
  },
  {
   "cell_type": "code",
   "execution_count": 5,
   "id": "c7e1a013",
   "metadata": {},
   "outputs": [
    {
     "name": "stdout",
     "output_type": "stream",
     "text": [
      "[1 2 3 4 5]\n"
     ]
    }
   ],
   "source": [
    "# Use a tuple to create a NumPy array\n",
    "\n",
    "import numpy as np\n",
    "\n",
    "arr = np.array((1,2,3,4,5))\n",
    "\n",
    "print(arr)"
   ]
  },
  {
   "cell_type": "markdown",
   "id": "f52d25df",
   "metadata": {},
   "source": [
    "TASK 1"
   ]
  },
  {
   "cell_type": "code",
   "execution_count": 6,
   "id": "3f6c5754",
   "metadata": {},
   "outputs": [],
   "source": [
    "# Import NumPy\n",
    "\n",
    "import numpy as af"
   ]
  },
  {
   "cell_type": "code",
   "execution_count": 7,
   "id": "9eb34181",
   "metadata": {},
   "outputs": [
    {
     "name": "stdout",
     "output_type": "stream",
     "text": [
      "1.24.3\n"
     ]
    }
   ],
   "source": [
    "# Checking Numpy Version\n",
    "\n",
    "print(af.__version__)"
   ]
  },
  {
   "cell_type": "code",
   "execution_count": 9,
   "id": "c2ef5a8e",
   "metadata": {},
   "outputs": [
    {
     "name": "stdout",
     "output_type": "stream",
     "text": [
      "[1.5 2.  3.5 4.  4.5]\n"
     ]
    }
   ],
   "source": [
    "# creating a NumPy array\n",
    "\n",
    "nilai = af.array([1.5, 2, 3.5, 4, 4.5])\n",
    "print(nilai)"
   ]
  },
  {
   "cell_type": "code",
   "execution_count": 10,
   "id": "9972ed4b",
   "metadata": {},
   "outputs": [
    {
     "name": "stdout",
     "output_type": "stream",
     "text": [
      "[1.5 2.  3.5 4.  4.5]\n",
      "<class 'numpy.ndarray'>\n"
     ]
    }
   ],
   "source": [
    "import numpy as af\n",
    "\n",
    "nilai = af.array([1.5,2,3.5,4,4.5])\n",
    "\n",
    "print(nilai)\n",
    "\n",
    "print(type(nilai))"
   ]
  },
  {
   "cell_type": "markdown",
   "id": "635d5e9c",
   "metadata": {},
   "source": [
    "Dimensions in Arrays\n",
    "\n",
    "A dimension in arrays is one on level of array dapth (nested arrays) "
   ]
  },
  {
   "cell_type": "code",
   "execution_count": 1,
   "id": "fdc66c38",
   "metadata": {},
   "outputs": [],
   "source": [
    "# 0-D Arrays"
   ]
  },
  {
   "cell_type": "code",
   "execution_count": 19,
   "id": "fa14c79c",
   "metadata": {},
   "outputs": [
    {
     "name": "stdout",
     "output_type": "stream",
     "text": [
      "42\n"
     ]
    }
   ],
   "source": [
    "import numpy as np\n",
    "\n",
    "arr = np.array(42)\n",
    "\n",
    "print(arr)"
   ]
  },
  {
   "cell_type": "code",
   "execution_count": null,
   "id": "1f693b22",
   "metadata": {},
   "outputs": [],
   "source": [
    "# Create a 1-D array"
   ]
  },
  {
   "cell_type": "code",
   "execution_count": 20,
   "id": "b0a686d3",
   "metadata": {},
   "outputs": [
    {
     "name": "stdout",
     "output_type": "stream",
     "text": [
      "[1 2 3 4 5]\n"
     ]
    }
   ],
   "source": [
    "import numpy as np\n",
    "\n",
    "arr = np.array([1,2,3,4,5])\n",
    "\n",
    "print(arr)"
   ]
  },
  {
   "cell_type": "code",
   "execution_count": null,
   "id": "623880c7",
   "metadata": {},
   "outputs": [],
   "source": [
    "# Create a 2-D array"
   ]
  },
  {
   "cell_type": "code",
   "execution_count": 23,
   "id": "28f4a010",
   "metadata": {},
   "outputs": [
    {
     "name": "stdout",
     "output_type": "stream",
     "text": [
      "[[1 2 3]\n",
      " [4 5 6]\n",
      " [7 8 9]]\n"
     ]
    }
   ],
   "source": [
    "import numpy as np\n",
    "\n",
    "arr = np.array([[1,2,3], [4,5,6], [7,8,9]])\n",
    "\n",
    "print(arr)"
   ]
  },
  {
   "cell_type": "markdown",
   "id": "1ece547e",
   "metadata": {},
   "source": [
    "TASK 2"
   ]
  },
  {
   "cell_type": "code",
   "execution_count": 28,
   "id": "cb2756f3",
   "metadata": {},
   "outputs": [
    {
     "name": "stdout",
     "output_type": "stream",
     "text": [
      "100\n"
     ]
    }
   ],
   "source": [
    "import numpy as np\n",
    "\n",
    "nilai = np.array(100)\n",
    "\n",
    "print(nilai)"
   ]
  },
  {
   "cell_type": "code",
   "execution_count": 26,
   "id": "6840e0b5",
   "metadata": {},
   "outputs": [
    {
     "name": "stdout",
     "output_type": "stream",
     "text": [
      "['1.5' '2' 'tiga' '4' '4.5']\n"
     ]
    }
   ],
   "source": [
    "import numpy as np\n",
    "\n",
    "hasil = np.array([1.5,2,'tiga',4,4.5])\n",
    "\n",
    "print(hasil)"
   ]
  },
  {
   "cell_type": "code",
   "execution_count": 27,
   "id": "35865935",
   "metadata": {},
   "outputs": [
    {
     "name": "stdout",
     "output_type": "stream",
     "text": [
      "[['1.5' '3.5' '4.5']\n",
      " ['satu' 'dua' 'tiga']\n",
      " ['4' '5' '6']]\n"
     ]
    }
   ],
   "source": [
    "import numpy as np\n",
    "\n",
    "objek = np.array([[1.5,3.5,4.5], ['satu', 'dua', 'tiga'], [4, 5, 6]])\n",
    "\n",
    "print(objek)"
   ]
  },
  {
   "cell_type": "code",
   "execution_count": 26,
   "id": "ce5bea92",
   "metadata": {},
   "outputs": [],
   "source": [
    "# Create a 3-D array with two 2-D arrays, both containing two arrays"
   ]
  },
  {
   "cell_type": "code",
   "execution_count": 25,
   "id": "ec8c88ae",
   "metadata": {},
   "outputs": [
    {
     "name": "stdout",
     "output_type": "stream",
     "text": [
      "[[[1 2 3]\n",
      "  [4 5 6]]\n",
      "\n",
      " [[1 2 3]\n",
      "  [4 5 6]]]\n"
     ]
    }
   ],
   "source": [
    "import numpy as np\n",
    "\n",
    "arr = np.array([[[1, 2, 3], [4, 5, 6]], [[1, 2, 3], [4, 5, 6]]])\n",
    "\n",
    "print(arr)"
   ]
  },
  {
   "cell_type": "code",
   "execution_count": 6,
   "id": "1d1c040a",
   "metadata": {},
   "outputs": [
    {
     "name": "stdout",
     "output_type": "stream",
     "text": [
      "[[['1.5' '3.5' '4.5']\n",
      "  ['satu' 'dua' 'tiga']]\n",
      "\n",
      " [['4' '5' '6']\n",
      "  ['7' '13' '15']]]\n"
     ]
    }
   ],
   "source": [
    "import numpy as np\n",
    "\n",
    "item = np.array([[[1.5,3.5,4.5], ['satu', 'dua', 'tiga']], [[4, 5, 6], [7, 13, 15]]])\n",
    "\n",
    "print(item)"
   ]
  },
  {
   "cell_type": "code",
   "execution_count": null,
   "id": "135d23b0",
   "metadata": {},
   "outputs": [],
   "source": [
    "# Check how many dimensions the arrays have"
   ]
  },
  {
   "cell_type": "code",
   "execution_count": 4,
   "id": "0824013b",
   "metadata": {},
   "outputs": [
    {
     "name": "stdout",
     "output_type": "stream",
     "text": [
      "0\n",
      "1\n",
      "2\n",
      "3\n"
     ]
    }
   ],
   "source": [
    "import numpy as np\n",
    "\n",
    "a = np.array(42)\n",
    "b = np.array([1, 2, 3, 4, 5])\n",
    "c = np.array([[1, 2, 3], [4, 5, 6]])\n",
    "d = np.array([[[1, 2, 3], [4, 5, 6]], [[1, 2, 3], [4, 5, 6]]])\n",
    "\n",
    "print(a.ndim)\n",
    "print(b.ndim)\n",
    "print(c.ndim)\n",
    "print(d.ndim)"
   ]
  },
  {
   "cell_type": "code",
   "execution_count": null,
   "id": "c76cedb7",
   "metadata": {},
   "outputs": [],
   "source": [
    "# Create an array with 5 dimensions and verify that it has 5 dimensions"
   ]
  },
  {
   "cell_type": "code",
   "execution_count": 7,
   "id": "86afecce",
   "metadata": {},
   "outputs": [
    {
     "name": "stdout",
     "output_type": "stream",
     "text": [
      "[[[[[1 2 3 4]]]]]\n",
      "number of dimensions : 5\n"
     ]
    }
   ],
   "source": [
    "import numpy as np\n",
    "\n",
    "arr = np.array([1, 2, 3, 4], ndmin= 5)\n",
    "\n",
    "print(arr)\n",
    "print('number of dimensions :', arr.ndim)"
   ]
  },
  {
   "cell_type": "markdown",
   "id": "e4416ea0",
   "metadata": {},
   "source": [
    "TASK 3"
   ]
  },
  {
   "cell_type": "code",
   "execution_count": 29,
   "id": "88467b1f",
   "metadata": {},
   "outputs": [
    {
     "name": "stdout",
     "output_type": "stream",
     "text": [
      "0\n",
      "1\n",
      "2\n",
      "3\n"
     ]
    }
   ],
   "source": [
    "import numpy as np\n",
    "\n",
    "nilai = np.array(100)\n",
    "hasil = np.array([1.5,2,'tiga',4,4.5])\n",
    "objek = np.array([[1.5,3.5,4.5], ['satu', 'dua', 'tiga'], [4, 5, 6]])\n",
    "item = np.array([[[1.5,3.5,4.5], ['satu', 'dua', 'tiga']], [[4, 5, 6], [7, 13, 15]]])\n",
    "\n",
    "print(nilai.ndim)\n",
    "print(hasil.ndim)\n",
    "print(objek.ndim)\n",
    "print(item.ndim)"
   ]
  },
  {
   "cell_type": "code",
   "execution_count": 33,
   "id": "75e14130",
   "metadata": {},
   "outputs": [
    {
     "name": "stdout",
     "output_type": "stream",
     "text": [
      "[[['1.5' '2' 'tiga' '4' '4.5']]]\n",
      "number of dimensions : 0\n"
     ]
    }
   ],
   "source": [
    "import numpy as np\n",
    "\n",
    "hasil = np.array([1.5,2,'tiga',4,4.5], ndmin= 3)\n",
    "\n",
    "print(hasil)\n",
    "print('number of dimensions :', nilai.ndim)"
   ]
  },
  {
   "cell_type": "code",
   "execution_count": 8,
   "id": "11dbd91a",
   "metadata": {},
   "outputs": [],
   "source": [
    "# Get the first element from the following array"
   ]
  },
  {
   "cell_type": "code",
   "execution_count": 9,
   "id": "3a46b814",
   "metadata": {},
   "outputs": [
    {
     "name": "stdout",
     "output_type": "stream",
     "text": [
      "1\n"
     ]
    }
   ],
   "source": [
    "import numpy as np\n",
    "\n",
    "arr = np.array([1, 2, 3, 4])\n",
    "\n",
    "print(arr[0])"
   ]
  },
  {
   "cell_type": "code",
   "execution_count": null,
   "id": "48acac4d",
   "metadata": {},
   "outputs": [],
   "source": [
    "# Get the second element from the following array"
   ]
  },
  {
   "cell_type": "code",
   "execution_count": 11,
   "id": "8a24aa25",
   "metadata": {},
   "outputs": [
    {
     "name": "stdout",
     "output_type": "stream",
     "text": [
      "2\n"
     ]
    }
   ],
   "source": [
    "import numpy as np\n",
    "\n",
    "arr = np.array([1, 2, 3, 4])\n",
    "\n",
    "print(arr[1])"
   ]
  },
  {
   "cell_type": "code",
   "execution_count": null,
   "id": "fd7c86a6",
   "metadata": {},
   "outputs": [],
   "source": [
    "# Get the third element from the following array"
   ]
  },
  {
   "cell_type": "code",
   "execution_count": 34,
   "id": "d4c872eb",
   "metadata": {},
   "outputs": [
    {
     "name": "stdout",
     "output_type": "stream",
     "text": [
      "tiga\n"
     ]
    }
   ],
   "source": [
    "import numpy as np\n",
    "\n",
    "hasil = np.array([1.5,2,'tiga',4,4.5])\n",
    "\n",
    "print(hasil[2])"
   ]
  },
  {
   "cell_type": "code",
   "execution_count": null,
   "id": "a49a86a4",
   "metadata": {},
   "outputs": [],
   "source": [
    "# Get the third and fourth elements from the following array and add them"
   ]
  },
  {
   "cell_type": "code",
   "execution_count": 12,
   "id": "7854b33b",
   "metadata": {},
   "outputs": [
    {
     "name": "stdout",
     "output_type": "stream",
     "text": [
      "7\n"
     ]
    }
   ],
   "source": [
    "import numpy as np\n",
    "\n",
    "arr = np.array([1, 2, 3, 4])\n",
    "\n",
    "print(arr[2] + arr[3])"
   ]
  },
  {
   "cell_type": "code",
   "execution_count": 42,
   "id": "0a558eb8",
   "metadata": {},
   "outputs": [
    {
     "name": "stdout",
     "output_type": "stream",
     "text": [
      "21\n"
     ]
    }
   ],
   "source": [
    "import numpy as np\n",
    "\n",
    "hasil = np.array([2,4,6,8,9,15])\n",
    "\n",
    "print(hasil[2] + hasil[5])"
   ]
  },
  {
   "cell_type": "code",
   "execution_count": null,
   "id": "85450f6f",
   "metadata": {},
   "outputs": [],
   "source": [
    "# Access the element on the first row, second columb"
   ]
  },
  {
   "cell_type": "code",
   "execution_count": 13,
   "id": "4c8b47a1",
   "metadata": {},
   "outputs": [
    {
     "name": "stdout",
     "output_type": "stream",
     "text": [
      "2nd element on 1st row:  2\n"
     ]
    }
   ],
   "source": [
    "import numpy as np\n",
    "\n",
    "arr = np.array([[1, 2, 3, 4, 5], [6, 7, 8, 9, 10]])\n",
    "\n",
    "print('2nd element on 1st row: ', arr[0, 1])"
   ]
  },
  {
   "cell_type": "code",
   "execution_count": null,
   "id": "85bde5e7",
   "metadata": {},
   "outputs": [],
   "source": [
    "# Access the element on the 2nd row, 5th columb"
   ]
  },
  {
   "cell_type": "code",
   "execution_count": 14,
   "id": "da66eeb7",
   "metadata": {},
   "outputs": [
    {
     "name": "stdout",
     "output_type": "stream",
     "text": [
      "5th element on 2nd row:  10\n"
     ]
    }
   ],
   "source": [
    "import numpy as np\n",
    "\n",
    "arr = np.array([[1, 2, 3, 4, 5], [6, 7, 8, 9, 10]])\n",
    "\n",
    "print('5th element on 2nd row: ', arr[1, 4])"
   ]
  },
  {
   "cell_type": "markdown",
   "id": "176eb98f",
   "metadata": {},
   "source": [
    "TASK 4"
   ]
  },
  {
   "cell_type": "code",
   "execution_count": 17,
   "id": "52737ae1",
   "metadata": {},
   "outputs": [],
   "source": [
    "import numpy as np\n",
    "\n",
    "arr = np.array([[2,3,4,5], [12,13,14,15], [22,23,24,25]]) "
   ]
  },
  {
   "cell_type": "code",
   "execution_count": 18,
   "id": "91830c21",
   "metadata": {},
   "outputs": [
    {
     "name": "stdout",
     "output_type": "stream",
     "text": [
      "42\n"
     ]
    }
   ],
   "source": [
    "print(arr[0, 1] + arr[1, 2] + arr[2, 3])"
   ]
  },
  {
   "cell_type": "code",
   "execution_count": 19,
   "id": "0cf7dd2a",
   "metadata": {},
   "outputs": [
    {
     "name": "stdout",
     "output_type": "stream",
     "text": [
      "third element on second row:  14\n"
     ]
    }
   ],
   "source": [
    "print ('third element on second row: ', arr[1, 2])"
   ]
  },
  {
   "cell_type": "code",
   "execution_count": null,
   "id": "967ce225",
   "metadata": {},
   "outputs": [],
   "source": []
  }
 ],
 "metadata": {
  "kernelspec": {
   "display_name": "Python 3 (ipykernel)",
   "language": "python",
   "name": "python3"
  },
  "language_info": {
   "codemirror_mode": {
    "name": "ipython",
    "version": 3
   },
   "file_extension": ".py",
   "mimetype": "text/x-python",
   "name": "python",
   "nbconvert_exporter": "python",
   "pygments_lexer": "ipython3",
   "version": "3.11.4"
  }
 },
 "nbformat": 4,
 "nbformat_minor": 5
}
