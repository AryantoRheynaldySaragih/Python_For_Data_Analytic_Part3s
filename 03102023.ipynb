{
 "cells": [
  {
   "cell_type": "markdown",
   "id": "a5937fc8",
   "metadata": {},
   "source": [
    "### Pandas"
   ]
  },
  {
   "cell_type": "markdown",
   "id": "3be39947",
   "metadata": {},
   "source": [
    "Import the Pandas library and save it with the alias pd."
   ]
  },
  {
   "cell_type": "code",
   "execution_count": 1,
   "id": "d5253349",
   "metadata": {},
   "outputs": [],
   "source": [
    "import pandas as pd"
   ]
  },
  {
   "cell_type": "markdown",
   "id": "16d5eb69",
   "metadata": {},
   "source": [
    "Pandas have 2 objects that are series and data frame."
   ]
  },
  {
   "cell_type": "markdown",
   "id": "7391a181",
   "metadata": {},
   "source": [
    "#### Object Series\n",
    "- Object Series has 1-dimensional data.\n",
    "- It doesn't have a column name because it has only one column.\n",
    "- It has index."
   ]
  },
  {
   "cell_type": "code",
   "execution_count": 2,
   "id": "16497e35",
   "metadata": {},
   "outputs": [],
   "source": [
    "data = [0.25, 0.50, 0.75, 1]"
   ]
  },
  {
   "cell_type": "code",
   "execution_count": 3,
   "id": "6faf730e",
   "metadata": {},
   "outputs": [
    {
     "name": "stdout",
     "output_type": "stream",
     "text": [
      "[0.25, 0.5, 0.75, 1]\n"
     ]
    }
   ],
   "source": [
    "print(data)"
   ]
  },
  {
   "cell_type": "markdown",
   "id": "b143319a",
   "metadata": {},
   "source": [
    "Convert the data into a series."
   ]
  },
  {
   "cell_type": "code",
   "execution_count": 4,
   "id": "c3b953c1",
   "metadata": {},
   "outputs": [],
   "source": [
    "data = pd.Series(data)"
   ]
  },
  {
   "cell_type": "code",
   "execution_count": 5,
   "id": "6ef93abb",
   "metadata": {},
   "outputs": [
    {
     "data": {
      "text/plain": [
       "0    0.25\n",
       "1    0.50\n",
       "2    0.75\n",
       "3    1.00\n",
       "dtype: float64"
      ]
     },
     "execution_count": 5,
     "metadata": {},
     "output_type": "execute_result"
    }
   ],
   "source": [
    "data"
   ]
  },
  {
   "cell_type": "markdown",
   "id": "5af09f5b",
   "metadata": {},
   "source": [
    "Task 1"
   ]
  },
  {
   "cell_type": "code",
   "execution_count": 6,
   "id": "36fa9b47",
   "metadata": {},
   "outputs": [],
   "source": [
    "waktu = [7.18, \"Selasa\", \"Oktober\", 2023]"
   ]
  },
  {
   "cell_type": "code",
   "execution_count": 7,
   "id": "08d45010",
   "metadata": {},
   "outputs": [
    {
     "name": "stdout",
     "output_type": "stream",
     "text": [
      "[7.18, 'Selasa', 'Oktober', 2023]\n"
     ]
    }
   ],
   "source": [
    "print(waktu)"
   ]
  },
  {
   "cell_type": "code",
   "execution_count": 8,
   "id": "51645fbe",
   "metadata": {},
   "outputs": [],
   "source": [
    "waktu = pd.Series(waktu)"
   ]
  },
  {
   "cell_type": "code",
   "execution_count": 9,
   "id": "744b30df",
   "metadata": {},
   "outputs": [
    {
     "data": {
      "text/plain": [
       "0       7.18\n",
       "1     Selasa\n",
       "2    Oktober\n",
       "3       2023\n",
       "dtype: object"
      ]
     },
     "execution_count": 9,
     "metadata": {},
     "output_type": "execute_result"
    }
   ],
   "source": [
    "waktu"
   ]
  },
  {
   "cell_type": "markdown",
   "id": "582e5fe3",
   "metadata": {},
   "source": [
    "Convert the data from series into an array."
   ]
  },
  {
   "cell_type": "code",
   "execution_count": 10,
   "id": "4b28be78",
   "metadata": {
    "scrolled": true
   },
   "outputs": [
    {
     "data": {
      "text/plain": [
       "array([0.25, 0.5 , 0.75, 1.  ])"
      ]
     },
     "execution_count": 10,
     "metadata": {},
     "output_type": "execute_result"
    }
   ],
   "source": [
    "data.values"
   ]
  },
  {
   "cell_type": "markdown",
   "id": "0ad9d06a",
   "metadata": {},
   "source": [
    "Display the index. \n",
    "\n",
    "The index is a range, where the start point is inclusive in the range, and the end point is exclusive from the range."
   ]
  },
  {
   "cell_type": "code",
   "execution_count": 11,
   "id": "7333fe35",
   "metadata": {},
   "outputs": [
    {
     "data": {
      "text/plain": [
       "RangeIndex(start=0, stop=4, step=1)"
      ]
     },
     "execution_count": 11,
     "metadata": {},
     "output_type": "execute_result"
    }
   ],
   "source": [
    "data.index"
   ]
  },
  {
   "cell_type": "code",
   "execution_count": 12,
   "id": "2fec03ce",
   "metadata": {},
   "outputs": [
    {
     "data": {
      "text/plain": [
       "[1, 2, 3, 4, 5, 6, 7, 8, 9]"
      ]
     },
     "execution_count": 12,
     "metadata": {},
     "output_type": "execute_result"
    }
   ],
   "source": [
    "list(range(1,10))"
   ]
  },
  {
   "cell_type": "markdown",
   "id": "967375be",
   "metadata": {},
   "source": [
    "Print the data using index"
   ]
  },
  {
   "cell_type": "code",
   "execution_count": 13,
   "id": "4de14e8c",
   "metadata": {},
   "outputs": [
    {
     "data": {
      "text/plain": [
       "0.75"
      ]
     },
     "execution_count": 13,
     "metadata": {},
     "output_type": "execute_result"
    }
   ],
   "source": [
    "data[2]"
   ]
  },
  {
   "cell_type": "markdown",
   "id": "fd66674c",
   "metadata": {},
   "source": [
    "Task 2"
   ]
  },
  {
   "cell_type": "code",
   "execution_count": 14,
   "id": "f57a6283",
   "metadata": {},
   "outputs": [],
   "source": [
    "waktu = [7.18, \"Selasa\", 3, \"Oktober\", 2023]\n",
    "\n",
    "waktu = pd.Series(waktu)"
   ]
  },
  {
   "cell_type": "code",
   "execution_count": 15,
   "id": "daf50770",
   "metadata": {},
   "outputs": [
    {
     "data": {
      "text/plain": [
       "array([7.18, 'Selasa', 3, 'Oktober', 2023], dtype=object)"
      ]
     },
     "execution_count": 15,
     "metadata": {},
     "output_type": "execute_result"
    }
   ],
   "source": [
    "# convert series into an array\n",
    "\n",
    "waktu.values"
   ]
  },
  {
   "cell_type": "code",
   "execution_count": 16,
   "id": "0f9a956f",
   "metadata": {},
   "outputs": [
    {
     "data": {
      "text/plain": [
       "RangeIndex(start=0, stop=5, step=1)"
      ]
     },
     "execution_count": 16,
     "metadata": {},
     "output_type": "execute_result"
    }
   ],
   "source": [
    "#show index\n",
    "\n",
    "waktu.index"
   ]
  },
  {
   "cell_type": "code",
   "execution_count": 17,
   "id": "c508acc7",
   "metadata": {
    "scrolled": true
   },
   "outputs": [
    {
     "data": {
      "text/plain": [
       "1     Selasa\n",
       "3    Oktober\n",
       "dtype: object"
      ]
     },
     "execution_count": 17,
     "metadata": {},
     "output_type": "execute_result"
    }
   ],
   "source": [
    "# slicing\n",
    "\n",
    "waktu[1:4:2]"
   ]
  },
  {
   "cell_type": "markdown",
   "id": "7ee59734",
   "metadata": {},
   "source": [
    "Implicit index are the default index. <br>\n",
    "We can define the index ourselves, which are called explicit index, and they are the ones that we specify. <br>\n",
    "When defining index, the number of indices must match the number of data points."
   ]
  },
  {
   "cell_type": "code",
   "execution_count": 18,
   "id": "cf2df6c2",
   "metadata": {},
   "outputs": [],
   "source": [
    "data = pd.Series([0.25, 0.50, 0.75, 1], index = ['a','b','c','d'])"
   ]
  },
  {
   "cell_type": "code",
   "execution_count": 19,
   "id": "c5b4bab2",
   "metadata": {},
   "outputs": [
    {
     "data": {
      "text/plain": [
       "a    0.25\n",
       "b    0.50\n",
       "c    0.75\n",
       "d    1.00\n",
       "dtype: float64"
      ]
     },
     "execution_count": 19,
     "metadata": {},
     "output_type": "execute_result"
    }
   ],
   "source": [
    "data"
   ]
  },
  {
   "cell_type": "code",
   "execution_count": 20,
   "id": "da218d26",
   "metadata": {
    "scrolled": true
   },
   "outputs": [
    {
     "data": {
      "text/plain": [
       "array([0.25, 0.5 , 0.75, 1.  ])"
      ]
     },
     "execution_count": 20,
     "metadata": {},
     "output_type": "execute_result"
    }
   ],
   "source": [
    "data.values"
   ]
  },
  {
   "cell_type": "code",
   "execution_count": 21,
   "id": "3d507ae9",
   "metadata": {},
   "outputs": [
    {
     "data": {
      "text/plain": [
       "Index(['a', 'b', 'c', 'd'], dtype='object')"
      ]
     },
     "execution_count": 21,
     "metadata": {},
     "output_type": "execute_result"
    }
   ],
   "source": [
    "data.index"
   ]
  },
  {
   "cell_type": "markdown",
   "id": "925d23bb",
   "metadata": {},
   "source": [
    "Print the data using explicit index and implisit index"
   ]
  },
  {
   "cell_type": "code",
   "execution_count": 22,
   "id": "54022da1",
   "metadata": {},
   "outputs": [
    {
     "data": {
      "text/plain": [
       "0.25"
      ]
     },
     "execution_count": 22,
     "metadata": {},
     "output_type": "execute_result"
    }
   ],
   "source": [
    "# index explicit\n",
    "\n",
    "data['a']"
   ]
  },
  {
   "cell_type": "markdown",
   "id": "325271da",
   "metadata": {},
   "source": [
    "This is data selection. <br>\n",
    "Even though we have defined explicit index, we can still call the implicit index."
   ]
  },
  {
   "cell_type": "code",
   "execution_count": 23,
   "id": "dac8f6fc",
   "metadata": {},
   "outputs": [
    {
     "data": {
      "text/plain": [
       "1.0"
      ]
     },
     "execution_count": 23,
     "metadata": {},
     "output_type": "execute_result"
    }
   ],
   "source": [
    "# index implisit\n",
    "\n",
    "data[3]"
   ]
  },
  {
   "cell_type": "markdown",
   "id": "49e12fc5",
   "metadata": {},
   "source": [
    "Task 3"
   ]
  },
  {
   "cell_type": "code",
   "execution_count": 24,
   "id": "1e4de735",
   "metadata": {},
   "outputs": [],
   "source": [
    "waktu = pd.Series([7.18, \"Selasa\", 3, \"Oktober\", 2023], index = [\"Pukul\", \"Hari\", \"Tanggal\", \"Bulan\", \"Tahun\"])"
   ]
  },
  {
   "cell_type": "code",
   "execution_count": 25,
   "id": "b1302bf2",
   "metadata": {
    "scrolled": true
   },
   "outputs": [
    {
     "data": {
      "text/plain": [
       "Pukul         7.18\n",
       "Hari        Selasa\n",
       "Tanggal          3\n",
       "Bulan      Oktober\n",
       "Tahun         2023\n",
       "dtype: object"
      ]
     },
     "execution_count": 25,
     "metadata": {},
     "output_type": "execute_result"
    }
   ],
   "source": [
    "waktu"
   ]
  },
  {
   "cell_type": "code",
   "execution_count": 26,
   "id": "57eb87dd",
   "metadata": {},
   "outputs": [
    {
     "data": {
      "text/plain": [
       "'Selasa'"
      ]
     },
     "execution_count": 26,
     "metadata": {},
     "output_type": "execute_result"
    }
   ],
   "source": [
    "waktu[\"Hari\"]"
   ]
  },
  {
   "cell_type": "code",
   "execution_count": 27,
   "id": "2c748db1",
   "metadata": {},
   "outputs": [
    {
     "data": {
      "text/plain": [
       "Tanggal          3\n",
       "Bulan      Oktober\n",
       "Tahun         2023\n",
       "dtype: object"
      ]
     },
     "execution_count": 27,
     "metadata": {},
     "output_type": "execute_result"
    }
   ],
   "source": [
    "waktu[2:5]"
   ]
  },
  {
   "cell_type": "markdown",
   "id": "ac64e12a",
   "metadata": {},
   "source": [
    "When the implicit index and explicit index are the same, when we call the data, it will depend on the explicit index."
   ]
  },
  {
   "cell_type": "code",
   "execution_count": 28,
   "id": "b936f68a",
   "metadata": {},
   "outputs": [],
   "source": [
    "data_2 = pd.Series([0.25, 0.50, 0.75, 1], index = [2,5,3,7])"
   ]
  },
  {
   "cell_type": "code",
   "execution_count": 29,
   "id": "b2b4e8d9",
   "metadata": {},
   "outputs": [
    {
     "data": {
      "text/plain": [
       "0.25"
      ]
     },
     "execution_count": 29,
     "metadata": {},
     "output_type": "execute_result"
    }
   ],
   "source": [
    "data_2[2]"
   ]
  },
  {
   "cell_type": "code",
   "execution_count": 30,
   "id": "c6bc894d",
   "metadata": {},
   "outputs": [],
   "source": [
    "# data_2[0]"
   ]
  },
  {
   "cell_type": "markdown",
   "id": "32978fcc",
   "metadata": {},
   "source": [
    "Task 4"
   ]
  },
  {
   "cell_type": "code",
   "execution_count": 31,
   "id": "269c900a",
   "metadata": {},
   "outputs": [],
   "source": [
    "data_3 = pd.Series([21, 22, 23, 24.5, 25, 26, 27.5, 28, 29, 30], index = [5,11,15,1,40,3,66,32,23,45])"
   ]
  },
  {
   "cell_type": "code",
   "execution_count": 32,
   "id": "e7585c0a",
   "metadata": {},
   "outputs": [
    {
     "data": {
      "text/plain": [
       "26.0"
      ]
     },
     "execution_count": 32,
     "metadata": {},
     "output_type": "execute_result"
    }
   ],
   "source": [
    "data_3[3]"
   ]
  },
  {
   "cell_type": "code",
   "execution_count": 33,
   "id": "c6fe98c2",
   "metadata": {},
   "outputs": [],
   "source": [
    "# data_3[2]"
   ]
  },
  {
   "cell_type": "markdown",
   "id": "e98c5e2a",
   "metadata": {},
   "source": [
    "Slicing data with explicit index and implisit index"
   ]
  },
  {
   "cell_type": "code",
   "execution_count": 34,
   "id": "e9e022f8",
   "metadata": {},
   "outputs": [],
   "source": [
    "data = pd.Series([0.25, 0.50, 0.75, 1], index = ['a','b','c','d'])"
   ]
  },
  {
   "cell_type": "code",
   "execution_count": 35,
   "id": "df4d6d27",
   "metadata": {},
   "outputs": [
    {
     "data": {
      "text/plain": [
       "a    0.25\n",
       "b    0.50\n",
       "c    0.75\n",
       "d    1.00\n",
       "dtype: float64"
      ]
     },
     "execution_count": 35,
     "metadata": {},
     "output_type": "execute_result"
    }
   ],
   "source": [
    "data"
   ]
  },
  {
   "cell_type": "markdown",
   "id": "228f3bc2",
   "metadata": {},
   "source": [
    "Show data from b to c:"
   ]
  },
  {
   "cell_type": "code",
   "execution_count": 36,
   "id": "40ffa029",
   "metadata": {},
   "outputs": [
    {
     "data": {
      "text/plain": [
       "b    0.50\n",
       "c    0.75\n",
       "dtype: float64"
      ]
     },
     "execution_count": 36,
     "metadata": {},
     "output_type": "execute_result"
    }
   ],
   "source": [
    "# index explicit\n",
    "data['b':'c']"
   ]
  },
  {
   "cell_type": "markdown",
   "id": "feb98e94",
   "metadata": {},
   "source": [
    "When we slice using implicit index, only the starting point will be shown, as implicit index are in the form of a range."
   ]
  },
  {
   "cell_type": "code",
   "execution_count": 37,
   "id": "dbe3cdab",
   "metadata": {},
   "outputs": [
    {
     "data": {
      "text/plain": [
       "b    0.5\n",
       "dtype: float64"
      ]
     },
     "execution_count": 37,
     "metadata": {},
     "output_type": "execute_result"
    }
   ],
   "source": [
    "# index implisit\n",
    "data[1:2]"
   ]
  },
  {
   "cell_type": "markdown",
   "id": "d27bfc6b",
   "metadata": {},
   "source": [
    "Task 5"
   ]
  },
  {
   "cell_type": "code",
   "execution_count": 38,
   "id": "9b2c7bcb",
   "metadata": {},
   "outputs": [],
   "source": [
    "aktivitas = pd.Series([7.18, \"Selasa\", 3, \"Oktober\", 2023, \"Kelas pagi\", \"Data Analyst\", \"MyEduSolve\", 6, \"Pandas\"], \n",
    "                      index = [\"Pukul\", \"Hari\", \"Tanggal\", \"Bulan\", \"Tahun\", \"Aktivitas\", \"Pathway\", \"Di\", \"Week\", \"Materi\"])"
   ]
  },
  {
   "cell_type": "code",
   "execution_count": 39,
   "id": "4a094fa5",
   "metadata": {},
   "outputs": [
    {
     "data": {
      "text/plain": [
       "Pukul                7.18\n",
       "Hari               Selasa\n",
       "Tanggal                 3\n",
       "Bulan             Oktober\n",
       "Tahun                2023\n",
       "Aktivitas      Kelas pagi\n",
       "Pathway      Data Analyst\n",
       "Di             MyEduSolve\n",
       "Week                    6\n",
       "Materi             Pandas\n",
       "dtype: object"
      ]
     },
     "execution_count": 39,
     "metadata": {},
     "output_type": "execute_result"
    }
   ],
   "source": [
    "aktivitas"
   ]
  },
  {
   "cell_type": "code",
   "execution_count": 40,
   "id": "7508159b",
   "metadata": {
    "scrolled": true
   },
   "outputs": [
    {
     "data": {
      "text/plain": [
       "Tanggal                 3\n",
       "Bulan             Oktober\n",
       "Tahun                2023\n",
       "Aktivitas      Kelas pagi\n",
       "Pathway      Data Analyst\n",
       "dtype: object"
      ]
     },
     "execution_count": 40,
     "metadata": {},
     "output_type": "execute_result"
    }
   ],
   "source": [
    "# slicing explicit\n",
    "aktivitas[\"Tanggal\":\"Pathway\"]"
   ]
  },
  {
   "cell_type": "code",
   "execution_count": 41,
   "id": "d4bce817",
   "metadata": {},
   "outputs": [
    {
     "data": {
      "text/plain": [
       "Tahun                2023\n",
       "Aktivitas      Kelas pagi\n",
       "Pathway      Data Analyst\n",
       "Di             MyEduSolve\n",
       "Week                    6\n",
       "dtype: object"
      ]
     },
     "execution_count": 41,
     "metadata": {},
     "output_type": "execute_result"
    }
   ],
   "source": [
    "# slicing implisit 2 paramater\n",
    "aktivitas[4:9]"
   ]
  },
  {
   "cell_type": "code",
   "execution_count": 42,
   "id": "c096f4e0",
   "metadata": {
    "scrolled": true
   },
   "outputs": [
    {
     "data": {
      "text/plain": [
       "Tanggal               3\n",
       "Aktivitas    Kelas pagi\n",
       "Week                  6\n",
       "dtype: object"
      ]
     },
     "execution_count": 42,
     "metadata": {},
     "output_type": "execute_result"
    }
   ],
   "source": [
    "# slicing implisit 3 parameter\n",
    "aktivitas[2:10:3]"
   ]
  }
 ],
 "metadata": {
  "kernelspec": {
   "display_name": "Python 3 (ipykernel)",
   "language": "python",
   "name": "python3"
  },
  "language_info": {
   "codemirror_mode": {
    "name": "ipython",
    "version": 3
   },
   "file_extension": ".py",
   "mimetype": "text/x-python",
   "name": "python",
   "nbconvert_exporter": "python",
   "pygments_lexer": "ipython3",
   "version": "3.11.4"
  }
 },
 "nbformat": 4,
 "nbformat_minor": 5
}
