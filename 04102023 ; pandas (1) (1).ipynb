{
 "cells": [
  {
   "cell_type": "code",
   "execution_count": null,
   "id": "6f528511",
   "metadata": {},
   "outputs": [],
   "source": [
    "import pandas as pd"
   ]
  },
  {
   "cell_type": "markdown",
   "id": "0766523d",
   "metadata": {},
   "source": [
    "loc dan iloc"
   ]
  },
  {
   "cell_type": "code",
   "execution_count": 9,
   "id": "0d5519d9",
   "metadata": {},
   "outputs": [],
   "source": [
    "data_2 = pd.Series([0.25, 0.50, 0.75, 1], index=[2, 5, 3, 7])"
   ]
  },
  {
   "cell_type": "code",
   "execution_count": 10,
   "id": "306ec155",
   "metadata": {},
   "outputs": [
    {
     "data": {
      "text/plain": [
       "2    0.25\n",
       "5    0.50\n",
       "3    0.75\n",
       "7    1.00\n",
       "dtype: float64"
      ]
     },
     "execution_count": 10,
     "metadata": {},
     "output_type": "execute_result"
    }
   ],
   "source": [
    "data_2"
   ]
  },
  {
   "cell_type": "code",
   "execution_count": 11,
   "id": "f1fa7ef1",
   "metadata": {},
   "outputs": [
    {
     "data": {
      "text/plain": [
       "0.75"
      ]
     },
     "execution_count": 11,
     "metadata": {},
     "output_type": "execute_result"
    }
   ],
   "source": [
    "#loc\n",
    "\n",
    "data_2.loc[3] #selecting index eksplisit"
   ]
  },
  {
   "cell_type": "code",
   "execution_count": 12,
   "id": "f31c4d2f",
   "metadata": {},
   "outputs": [
    {
     "data": {
      "text/plain": [
       "2    0.25\n",
       "5    0.50\n",
       "3    0.75\n",
       "dtype: float64"
      ]
     },
     "execution_count": 12,
     "metadata": {},
     "output_type": "execute_result"
    }
   ],
   "source": [
    "#loc\n",
    "\n",
    "data_2.loc[2:3] #slicing index eksplisit"
   ]
  },
  {
   "cell_type": "code",
   "execution_count": 13,
   "id": "cb11dcae",
   "metadata": {},
   "outputs": [
    {
     "data": {
      "text/plain": [
       "1.0"
      ]
     },
     "execution_count": 13,
     "metadata": {},
     "output_type": "execute_result"
    }
   ],
   "source": [
    "#iloc\n",
    "\n",
    "data_2.iloc[3] #selecting index implisit"
   ]
  },
  {
   "cell_type": "code",
   "execution_count": 14,
   "id": "39a27801",
   "metadata": {},
   "outputs": [
    {
     "data": {
      "text/plain": [
       "3    0.75\n",
       "dtype: float64"
      ]
     },
     "execution_count": 14,
     "metadata": {},
     "output_type": "execute_result"
    }
   ],
   "source": [
    "#iloc\n",
    "\n",
    "data_2.iloc[2:3] #slicing index implisit"
   ]
  },
  {
   "cell_type": "markdown",
   "id": "1ef882ef",
   "metadata": {},
   "source": [
    "saat mengakses satu indeks maka yang muncul adalah indeks eksplisitnya"
   ]
  },
  {
   "cell_type": "code",
   "execution_count": 5,
   "id": "153c2626",
   "metadata": {},
   "outputs": [
    {
     "data": {
      "text/plain": [
       "0.25"
      ]
     },
     "execution_count": 5,
     "metadata": {},
     "output_type": "execute_result"
    }
   ],
   "source": [
    "data_2[2] #indeks eksplisit : selecting"
   ]
  },
  {
   "cell_type": "markdown",
   "id": "e876ef5f",
   "metadata": {},
   "source": [
    "ketika kita memanggil indeks eksplisit dari indeks 2 sampai 3, nilai yg muncul adl indeks implisitnya"
   ]
  },
  {
   "cell_type": "code",
   "execution_count": 6,
   "id": "a03d7f8c",
   "metadata": {},
   "outputs": [
    {
     "data": {
      "text/plain": [
       "3    0.75\n",
       "dtype: float64"
      ]
     },
     "execution_count": 6,
     "metadata": {},
     "output_type": "execute_result"
    }
   ],
   "source": [
    "data_2[2:3] #indeks implisit : slicing"
   ]
  },
  {
   "cell_type": "code",
   "execution_count": 15,
   "id": "a304e7a1",
   "metadata": {},
   "outputs": [],
   "source": [
    "data_3 = pd.Series([2, 4, 2.8, 4.2, 6>3, 2>3, \"selamat\", \"pagi\", 2+3j, 4+2j], index=[3,5,6,4,9,10,2,8,7,11])"
   ]
  },
  {
   "cell_type": "code",
   "execution_count": 16,
   "id": "b12a86dd",
   "metadata": {},
   "outputs": [
    {
     "data": {
      "text/plain": [
       "3           2\n",
       "5           4\n",
       "6         2.8\n",
       "4         4.2\n",
       "9        True\n",
       "10      False\n",
       "2     selamat\n",
       "8        pagi\n",
       "7      (2+3j)\n",
       "11     (4+2j)\n",
       "dtype: object"
      ]
     },
     "execution_count": 16,
     "metadata": {},
     "output_type": "execute_result"
    }
   ],
   "source": [
    "data_3"
   ]
  },
  {
   "cell_type": "code",
   "execution_count": 6,
   "id": "e6c9ffb4",
   "metadata": {},
   "outputs": [
    {
     "data": {
      "text/plain": [
       "4.2"
      ]
     },
     "execution_count": 6,
     "metadata": {},
     "output_type": "execute_result"
    }
   ],
   "source": [
    "data_3[4] #indeks eksplisit : selecting"
   ]
  },
  {
   "cell_type": "code",
   "execution_count": 7,
   "id": "663c05d0",
   "metadata": {},
   "outputs": [
    {
     "data": {
      "text/plain": [
       "4       4.2\n",
       "9      True\n",
       "10    False\n",
       "dtype: object"
      ]
     },
     "execution_count": 7,
     "metadata": {},
     "output_type": "execute_result"
    }
   ],
   "source": [
    "data_3[3:6] #indeks implisit : slicing"
   ]
  },
  {
   "cell_type": "code",
   "execution_count": 8,
   "id": "9c5d2252",
   "metadata": {},
   "outputs": [
    {
     "data": {
      "text/plain": [
       "4        4.2\n",
       "2    selamat\n",
       "dtype: object"
      ]
     },
     "execution_count": 8,
     "metadata": {},
     "output_type": "execute_result"
    }
   ],
   "source": [
    "data_3[3:9:3]"
   ]
  },
  {
   "cell_type": "code",
   "execution_count": null,
   "id": "e4013276",
   "metadata": {},
   "outputs": [],
   "source": [
    "data_3 = pd.Series([2, 4, 2.8, 4.2, 6>3, 2>3, \"selamat\", \"pagi\", 2+3j, 4+2j], index=[3,5,6,4,9,10,2,8,7,11])"
   ]
  },
  {
   "cell_type": "code",
   "execution_count": null,
   "id": "7b517e5c",
   "metadata": {},
   "outputs": [],
   "source": [
    "data_3"
   ]
  },
  {
   "cell_type": "code",
   "execution_count": null,
   "id": "8b4ec384",
   "metadata": {},
   "outputs": [],
   "source": [
    "data_3[0]"
   ]
  },
  {
   "cell_type": "code",
   "execution_count": null,
   "id": "e1546311",
   "metadata": {},
   "outputs": [],
   "source": [
    "data_3.iloc[0]"
   ]
  },
  {
   "cell_type": "code",
   "execution_count": 23,
   "id": "041182d7",
   "metadata": {},
   "outputs": [
    {
     "data": {
      "text/plain": [
       "4.2"
      ]
     },
     "execution_count": 23,
     "metadata": {},
     "output_type": "execute_result"
    }
   ],
   "source": [
    "#loc\n",
    "\n",
    "data_3.loc[4] #selecting index eksplisit"
   ]
  },
  {
   "cell_type": "code",
   "execution_count": 27,
   "id": "1a4378d4",
   "metadata": {},
   "outputs": [
    {
     "data": {
      "text/plain": [
       "4.2"
      ]
     },
     "execution_count": 27,
     "metadata": {},
     "output_type": "execute_result"
    }
   ],
   "source": [
    "data_3[4]"
   ]
  },
  {
   "cell_type": "code",
   "execution_count": 24,
   "id": "77b2f4b2",
   "metadata": {},
   "outputs": [
    {
     "data": {
      "text/plain": [
       "3       2\n",
       "5       4\n",
       "6     2.8\n",
       "4     4.2\n",
       "9    True\n",
       "dtype: object"
      ]
     },
     "execution_count": 24,
     "metadata": {},
     "output_type": "execute_result"
    }
   ],
   "source": [
    "#loc\n",
    "\n",
    "data_3.loc[3:9] #slicing index eksplisit"
   ]
  },
  {
   "cell_type": "code",
   "execution_count": null,
   "id": "15709a5d",
   "metadata": {},
   "outputs": [],
   "source": []
  },
  {
   "cell_type": "code",
   "execution_count": 25,
   "id": "35530a51",
   "metadata": {},
   "outputs": [
    {
     "data": {
      "text/plain": [
       "True"
      ]
     },
     "execution_count": 25,
     "metadata": {},
     "output_type": "execute_result"
    }
   ],
   "source": [
    "#iloc\n",
    "\n",
    "data_3.iloc[4] #selecting index implisit"
   ]
  },
  {
   "cell_type": "code",
   "execution_count": 26,
   "id": "5d69c716",
   "metadata": {},
   "outputs": [
    {
     "data": {
      "text/plain": [
       "4         4.2\n",
       "9        True\n",
       "10      False\n",
       "2     selamat\n",
       "8        pagi\n",
       "7      (2+3j)\n",
       "dtype: object"
      ]
     },
     "execution_count": 26,
     "metadata": {},
     "output_type": "execute_result"
    }
   ],
   "source": [
    "#iloc\n",
    "\n",
    "data_3.iloc[3:9] #slicing indek implisit"
   ]
  },
  {
   "cell_type": "code",
   "execution_count": null,
   "id": "4490bb99",
   "metadata": {},
   "outputs": [],
   "source": [
    "dict_populasi = {'jakarta':750, 'bogor':490, 'depok':350, 'tanggerang':270, 'bekasi':670}"
   ]
  },
  {
   "cell_type": "code",
   "execution_count": null,
   "id": "099918b8",
   "metadata": {},
   "outputs": [],
   "source": [
    "dict_populasi"
   ]
  },
  {
   "cell_type": "code",
   "execution_count": null,
   "id": "16eb46a0",
   "metadata": {},
   "outputs": [],
   "source": []
  }
 ],
 "metadata": {
  "kernelspec": {
   "display_name": "Python 3 (ipykernel)",
   "language": "python",
   "name": "python3"
  },
  "language_info": {
   "codemirror_mode": {
    "name": "ipython",
    "version": 3
   },
   "file_extension": ".py",
   "mimetype": "text/x-python",
   "name": "python",
   "nbconvert_exporter": "python",
   "pygments_lexer": "ipython3",
   "version": "3.11.4"
  }
 },
 "nbformat": 4,
 "nbformat_minor": 5
}
